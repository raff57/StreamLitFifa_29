{
  "cells": [
    {
      "cell_type": "markdown",
      "metadata": {},
      "source": [
        "# Inference\n",
        "\n",
        "untuk inference pastikan tidak ada lagi kata **FIT**. Lakukan semua transformasi yang dilakukan ketika FE, lalu predict dengan model yang sudah di save"
      ]
    },
    {
      "cell_type": "code",
      "execution_count": 8,
      "metadata": {
        "id": "e_o24U33Glin"
      },
      "outputs": [],
      "source": [
        "#Import library\n",
        "\n",
        "import pandas as pd\n",
        "import numpy as np\n",
        "import pickle\n",
        "import json"
      ]
    },
    {
      "cell_type": "markdown",
      "metadata": {
        "id": "hITqvphTGtjo"
      },
      "source": [
        "## Load model"
      ]
    },
    {
      "cell_type": "code",
      "execution_count": null,
      "metadata": {
        "id": "s8WQJOHnGsoG"
      },
      "outputs": [],
      "source": [
        "#Load all files\n",
        "\n",
        "with open('list_cat_cols.txt', 'r') as file_1:\n",
        "  list_cat_cols = json.load(file_1)\n",
        "\n",
        "with open('list_num_cols.txt', 'r') as file_2:\n",
        "  list_num_cols = json.load(file_2)\n",
        "\n",
        "with open('scaler.pkl', 'rb') as file_3:\n",
        "  scaler = pickle.load(file_3)\n",
        "\n",
        "with open('model_encoder.pkl', 'rb') as file_4:\n",
        "  encoder = pickle.load(file_4)\n",
        "\n",
        "with open('model_lin_reg.pkl', 'rb') as file_5:\n",
        "  model_lin_reg = pickle.load(file_5)"
      ]
    },
    {
      "cell_type": "markdown",
      "metadata": {
        "id": "uCOV54nxHxsa"
      },
      "source": [
        "## Inferencing"
      ]
    },
    {
      "cell_type": "code",
      "execution_count": 22,
      "metadata": {
        "colab": {
          "base_uri": "https://localhost:8080/",
          "height": 145
        },
        "id": "c5s311m4Gsz-",
        "outputId": "b0309e5a-44f0-472e-94a0-fb15470a0738"
      },
      "outputs": [
        {
          "data": {
            "text/html": [
              "<div>\n",
              "<style scoped>\n",
              "    .dataframe tbody tr th:only-of-type {\n",
              "        vertical-align: middle;\n",
              "    }\n",
              "\n",
              "    .dataframe tbody tr th {\n",
              "        vertical-align: top;\n",
              "    }\n",
              "\n",
              "    .dataframe thead th {\n",
              "        text-align: right;\n",
              "    }\n",
              "</style>\n",
              "<table border=\"1\" class=\"dataframe\">\n",
              "  <thead>\n",
              "    <tr style=\"text-align: right;\">\n",
              "      <th></th>\n",
              "      <th>Name</th>\n",
              "      <th>Age</th>\n",
              "      <th>Height</th>\n",
              "      <th>Weight</th>\n",
              "      <th>Price</th>\n",
              "      <th>AttackingWorkRate</th>\n",
              "      <th>DefensiveWorkRate</th>\n",
              "      <th>PaceTotal</th>\n",
              "      <th>ShootingTotal</th>\n",
              "      <th>PassingTotal</th>\n",
              "      <th>DribblingTotal</th>\n",
              "      <th>DefendingTotal</th>\n",
              "      <th>PhysicalityTotal</th>\n",
              "    </tr>\n",
              "  </thead>\n",
              "  <tbody>\n",
              "    <tr>\n",
              "      <th>0</th>\n",
              "      <td>Ghiffari</td>\n",
              "      <td>50</td>\n",
              "      <td>190</td>\n",
              "      <td>80</td>\n",
              "      <td>1900000</td>\n",
              "      <td>High</td>\n",
              "      <td>High</td>\n",
              "      <td>50</td>\n",
              "      <td>100</td>\n",
              "      <td>100</td>\n",
              "      <td>100</td>\n",
              "      <td>100</td>\n",
              "      <td>60</td>\n",
              "    </tr>\n",
              "  </tbody>\n",
              "</table>\n",
              "</div>"
            ],
            "text/plain": [
              "       Name  Age  Height  Weight    Price AttackingWorkRate DefensiveWorkRate  \\\n",
              "0  Ghiffari   50     190      80  1900000              High              High   \n",
              "\n",
              "   PaceTotal  ShootingTotal  PassingTotal  DribblingTotal  DefendingTotal  \\\n",
              "0         50            100           100             100             100   \n",
              "\n",
              "   PhysicalityTotal  \n",
              "0                60  "
            ]
          },
          "execution_count": 22,
          "metadata": {},
          "output_type": "execute_result"
        }
      ],
      "source": [
        "#Create new data\n",
        "\n",
        "data_inf = {\n",
        "    'Name': 'Ghiffari',\n",
        "    'Age' : 50,\n",
        "    'Height' : 190,\n",
        "    'Weight' : 80,\n",
        "    'Price' : 1900000,\n",
        "    'AttackingWorkRate': 'High',\n",
        "    'DefensiveWorkRate': 'High',\n",
        "    'PaceTotal': 50,\n",
        "    'ShootingTotal': 100,\n",
        "    'PassingTotal': 100,\n",
        "    'DribblingTotal': 100,\n",
        "    'DefendingTotal': 100,\n",
        "    'PhysicalityTotal': 60\n",
        "}\n",
        "\n",
        "data_inf = pd.DataFrame([data_inf])\n",
        "data_inf"
      ]
    },
    {
      "cell_type": "code",
      "execution_count": 23,
      "metadata": {
        "colab": {
          "base_uri": "https://localhost:8080/",
          "height": 81
        },
        "id": "Owbg_JmNI1N4",
        "outputId": "32d58205-2394-4359-ff59-458b76c7ef7e"
      },
      "outputs": [
        {
          "data": {
            "text/html": [
              "<div>\n",
              "<style scoped>\n",
              "    .dataframe tbody tr th:only-of-type {\n",
              "        vertical-align: middle;\n",
              "    }\n",
              "\n",
              "    .dataframe tbody tr th {\n",
              "        vertical-align: top;\n",
              "    }\n",
              "\n",
              "    .dataframe thead th {\n",
              "        text-align: right;\n",
              "    }\n",
              "</style>\n",
              "<table border=\"1\" class=\"dataframe\">\n",
              "  <thead>\n",
              "    <tr style=\"text-align: right;\">\n",
              "      <th></th>\n",
              "      <th>Age</th>\n",
              "      <th>Height</th>\n",
              "      <th>Weight</th>\n",
              "      <th>Price</th>\n",
              "      <th>PaceTotal</th>\n",
              "      <th>ShootingTotal</th>\n",
              "      <th>PassingTotal</th>\n",
              "      <th>DribblingTotal</th>\n",
              "      <th>DefendingTotal</th>\n",
              "      <th>PhysicalityTotal</th>\n",
              "    </tr>\n",
              "  </thead>\n",
              "  <tbody>\n",
              "    <tr>\n",
              "      <th>0</th>\n",
              "      <td>50</td>\n",
              "      <td>190</td>\n",
              "      <td>80</td>\n",
              "      <td>1900000</td>\n",
              "      <td>50</td>\n",
              "      <td>100</td>\n",
              "      <td>100</td>\n",
              "      <td>100</td>\n",
              "      <td>100</td>\n",
              "      <td>60</td>\n",
              "    </tr>\n",
              "  </tbody>\n",
              "</table>\n",
              "</div>"
            ],
            "text/plain": [
              "   Age  Height  Weight    Price  PaceTotal  ShootingTotal  PassingTotal  \\\n",
              "0   50     190      80  1900000         50            100           100   \n",
              "\n",
              "   DribblingTotal  DefendingTotal  PhysicalityTotal  \n",
              "0             100             100                60  "
            ]
          },
          "execution_count": 23,
          "metadata": {},
          "output_type": "execute_result"
        }
      ],
      "source": [
        "#Split between numerical columns and categorical columns\n",
        "\n",
        "data_inf_num = data_inf[list_num_cols]\n",
        "data_inf_cat = data_inf[list_cat_cols]\n",
        "data_inf_num\n"
      ]
    },
    {
      "cell_type": "code",
      "execution_count": 24,
      "metadata": {
        "id": "Ecm8f7YLJK2q"
      },
      "outputs": [],
      "source": [
        "#Feature scaling and feature encoding\n",
        "\n",
        "data_inf_num_scaled = scaler.transform(data_inf_num)\n",
        "data_inf_cat_encoded = encoder.transform(data_inf_cat)\n",
        "data_inf_final = np.concatenate([data_inf_num_scaled, data_inf_cat_encoded], axis = 1)"
      ]
    },
    {
      "cell_type": "code",
      "execution_count": 25,
      "metadata": {
        "colab": {
          "base_uri": "https://localhost:8080/"
        },
        "id": "xTfOfU2-JjAV",
        "outputId": "461d42f4-2adf-4bec-92c0-9f3da9dfa544"
      },
      "outputs": [
        {
          "name": "stderr",
          "output_type": "stream",
          "text": [
            "/Users/hacktiv8/anaconda3/envs/data_science/lib/python3.9/site-packages/sklearn/base.py:464: UserWarning: X does not have valid feature names, but LinearRegression was fitted with feature names\n",
            "  warnings.warn(\n"
          ]
        },
        {
          "data": {
            "text/plain": [
              "array([88.45788378])"
            ]
          },
          "execution_count": 25,
          "metadata": {},
          "output_type": "execute_result"
        }
      ],
      "source": [
        "#Predict usiing linear regression\n",
        "\n",
        "y_pred_inf = model_lin_reg.predict(data_inf_final)\n",
        "y_pred_inf"
      ]
    }
  ],
  "metadata": {
    "colab": {
      "provenance": []
    },
    "kernelspec": {
      "display_name": "Python 3",
      "name": "python3"
    },
    "language_info": {
      "codemirror_mode": {
        "name": "ipython",
        "version": 3
      },
      "file_extension": ".py",
      "mimetype": "text/x-python",
      "name": "python",
      "nbconvert_exporter": "python",
      "pygments_lexer": "ipython3",
      "version": "3.9.18"
    }
  },
  "nbformat": 4,
  "nbformat_minor": 0
}
